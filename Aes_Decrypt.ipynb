{
  "nbformat": 4,
  "nbformat_minor": 0,
  "metadata": {
    "colab": {
      "provenance": []
    },
    "kernelspec": {
      "name": "python3",
      "display_name": "Python 3"
    },
    "language_info": {
      "name": "python"
    }
  },
  "cells": [
    {
      "cell_type": "code",
      "source": [
        "!pip install pycryptodome"
      ],
      "metadata": {
        "colab": {
          "base_uri": "https://localhost:8080/"
        },
        "id": "GCUwW6_WhBYG",
        "outputId": "17d49327-adab-4a71-ee3f-0e1a6b2472a7"
      },
      "execution_count": 2,
      "outputs": [
        {
          "output_type": "stream",
          "name": "stdout",
          "text": [
            "Collecting pycryptodome\n",
            "  Downloading pycryptodome-3.23.0-cp37-abi3-manylinux_2_17_x86_64.manylinux2014_x86_64.whl.metadata (3.4 kB)\n",
            "Downloading pycryptodome-3.23.0-cp37-abi3-manylinux_2_17_x86_64.manylinux2014_x86_64.whl (2.3 MB)\n",
            "\u001b[2K   \u001b[90m━━━━━━━━━━━━━━━━━━━━━━━━━━━━━━━━━━━━━━━━\u001b[0m \u001b[32m2.3/2.3 MB\u001b[0m \u001b[31m21.8 MB/s\u001b[0m eta \u001b[36m0:00:00\u001b[0m\n",
            "\u001b[?25hInstalling collected packages: pycryptodome\n",
            "Successfully installed pycryptodome-3.23.0\n"
          ]
        }
      ]
    },
    {
      "cell_type": "code",
      "source": [
        "!pip install flask pyngrok pycryptodome"
      ],
      "metadata": {
        "colab": {
          "base_uri": "https://localhost:8080/"
        },
        "id": "7WfQ2qnfhTMj",
        "outputId": "ea359c70-7729-44bb-8cde-ef2af4a7b205"
      },
      "execution_count": 3,
      "outputs": [
        {
          "output_type": "stream",
          "name": "stdout",
          "text": [
            "Requirement already satisfied: flask in /usr/local/lib/python3.11/dist-packages (3.1.1)\n",
            "Collecting pyngrok\n",
            "  Downloading pyngrok-7.2.8-py3-none-any.whl.metadata (10 kB)\n",
            "Requirement already satisfied: pycryptodome in /usr/local/lib/python3.11/dist-packages (3.23.0)\n",
            "Requirement already satisfied: blinker>=1.9.0 in /usr/local/lib/python3.11/dist-packages (from flask) (1.9.0)\n",
            "Requirement already satisfied: click>=8.1.3 in /usr/local/lib/python3.11/dist-packages (from flask) (8.2.0)\n",
            "Requirement already satisfied: itsdangerous>=2.2.0 in /usr/local/lib/python3.11/dist-packages (from flask) (2.2.0)\n",
            "Requirement already satisfied: jinja2>=3.1.2 in /usr/local/lib/python3.11/dist-packages (from flask) (3.1.6)\n",
            "Requirement already satisfied: markupsafe>=2.1.1 in /usr/local/lib/python3.11/dist-packages (from flask) (3.0.2)\n",
            "Requirement already satisfied: werkzeug>=3.1.0 in /usr/local/lib/python3.11/dist-packages (from flask) (3.1.3)\n",
            "Requirement already satisfied: PyYAML>=5.1 in /usr/local/lib/python3.11/dist-packages (from pyngrok) (6.0.2)\n",
            "Downloading pyngrok-7.2.8-py3-none-any.whl (25 kB)\n",
            "Installing collected packages: pyngrok\n",
            "Successfully installed pyngrok-7.2.8\n"
          ]
        }
      ]
    },
    {
      "cell_type": "code",
      "execution_count": null,
      "metadata": {
        "colab": {
          "base_uri": "https://localhost:8080/"
        },
        "id": "z7RyhNo3g55H",
        "outputId": "27d07654-9b79-43ed-ba1a-28d7cef51ba8"
      },
      "outputs": [
        {
          "output_type": "stream",
          "name": "stdout",
          "text": [
            "📌 Truy cập web tại: NgrokTunnel: \"https://3730-34-71-26-240.ngrok-free.app\" -> \"http://localhost:5000\"\n",
            " * Serving Flask app '__main__'\n",
            " * Debug mode: off\n"
          ]
        },
        {
          "output_type": "stream",
          "name": "stderr",
          "text": [
            "INFO:werkzeug:\u001b[31m\u001b[1mWARNING: This is a development server. Do not use it in a production deployment. Use a production WSGI server instead.\u001b[0m\n",
            " * Running on http://127.0.0.1:5000\n",
            "INFO:werkzeug:\u001b[33mPress CTRL+C to quit\u001b[0m\n",
            "INFO:werkzeug:127.0.0.1 - - [22/May/2025 10:19:27] \"GET / HTTP/1.1\" 200 -\n",
            "INFO:werkzeug:127.0.0.1 - - [22/May/2025 10:19:27] \"\u001b[33mGET /favicon.ico HTTP/1.1\u001b[0m\" 404 -\n"
          ]
        }
      ],
      "source": [
        "from flask import Flask, request, send_file, render_template_string\n",
        "from Crypto.Cipher import AES\n",
        "from Crypto.Util.Padding import pad, unpad\n",
        "from io import BytesIO\n",
        "from pyngrok import conf, ngrok\n",
        "import hashlib\n",
        "\n",
        "app = Flask(__name__)\n",
        "conf.get_default().auth_token = \"2ujCdDkaOVBkBmrqIRJACyVCwRD_2nF1MMtFrfkdkjTpKxkJT\"\n",
        "\n",
        "# ---------------------------\n",
        "# AES với khóa băm SHA-256\n",
        "# ---------------------------\n",
        "BLOCK_SIZE = 16  # AES block size\n",
        "\n",
        "def normalize_key(key: str) -> bytes:\n",
        "    return hashlib.sha256(key.encode()).digest()  # 32 bytes (AES-256)\n",
        "\n",
        "def encrypt_aes(data: bytes, key: str) -> bytes:\n",
        "    cipher = AES.new(normalize_key(key), AES.MODE_ECB)\n",
        "    return cipher.encrypt(pad(data, BLOCK_SIZE))\n",
        "\n",
        "def decrypt_aes(data: bytes, key: str) -> bytes:\n",
        "    cipher = AES.new(normalize_key(key), AES.MODE_ECB)\n",
        "    return unpad(cipher.decrypt(data), BLOCK_SIZE)\n",
        "\n",
        "# ---------------------------\n",
        "# HTML giao diện web\n",
        "# ---------------------------\n",
        "HTML = '''\n",
        "<!DOCTYPE html>\n",
        "<html lang=\"vi\">\n",
        "<head>\n",
        "    <meta charset=\"UTF-8\">\n",
        "    <title>Mã hóa/Giải mã file AES</title>\n",
        "    <style>\n",
        "        body {\n",
        "            font-family: 'Segoe UI', sans-serif;\n",
        "            background: linear-gradient(to right, #232526, #ce1313);\n",
        "            display: flex;\n",
        "            justify-content: center;\n",
        "            align-items: center;\n",
        "            height: 100vh;\n",
        "            margin: 0;\n",
        "        }\n",
        "        .container {\n",
        "            background: #ffffffcc;\n",
        "            backdrop-filter: blur(5px);\n",
        "            padding: 30px 40px;\n",
        "            border-radius: 16px;\n",
        "            box-shadow: 0 8px 24px rgba(0, 0, 0, 0.2);\n",
        "            width: 400px;\n",
        "        }\n",
        "        h2 {\n",
        "            text-align: center;\n",
        "            margin-bottom: 25px;\n",
        "            color: #333;\n",
        "        }\n",
        "        p {\n",
        "            margin: 10px 0;\n",
        "            font-weight: bold;\n",
        "        }\n",
        "        input[type=\"file\"], input[type=\"text\"], select, button {\n",
        "            width: 100%;\n",
        "            padding: 10px 12px;\n",
        "            margin-top: 6px;\n",
        "            border-radius: 8px;\n",
        "            border: 1px solid #ccc;\n",
        "            box-sizing: border-box;\n",
        "            font-size: 14px;\n",
        "        }\n",
        "        button {\n",
        "            background: linear-gradient(to right, #232526, #ce1313);\n",
        "            color: white;\n",
        "            font-weight: bold;\n",
        "            border: none;\n",
        "            cursor: pointer;\n",
        "            margin-top: 20px;\n",
        "            transition: background 0.3s ease;\n",
        "        }\n",
        "        button:hover {\n",
        "            background: linear-gradient(to right, #5b86e5, #36d1dc);\n",
        "        }\n",
        "        .error {\n",
        "            color: red;\n",
        "            font-weight: bold;\n",
        "            margin-top: 15px;\n",
        "            text-align: center;\n",
        "        }\n",
        "    </style>\n",
        "</head>\n",
        "<body>\n",
        "    <div class=\"container\">\n",
        "        <h2>Mã hóa / Giải mã file AES</h2>\n",
        "        <form method=\"POST\" enctype=\"multipart/form-data\">\n",
        "            <p>Chọn file:\n",
        "            <input type=\"file\" name=\"file\" required></p>\n",
        "\n",
        "            <p>Nhập khóa (tự do):\n",
        "            <input type=\"text\" name=\"key\" required></p>\n",
        "\n",
        "            <p>Chế độ:\n",
        "            <select name=\"mode\" required>\n",
        "                <option value=\"encrypt\">Mã hóa</option>\n",
        "                <option value=\"decrypt\">Giải mã</option>\n",
        "            </select></p>\n",
        "\n",
        "            <button type=\"submit\">Thực hiện</button>\n",
        "        </form>\n",
        "        {% if error %}\n",
        "            <div class=\"error\">{{ error }}</div>\n",
        "        {% endif %}\n",
        "    </div>\n",
        "</body>\n",
        "</html>\n",
        "'''\n",
        "\n",
        "@app.route('/', methods=['GET', 'POST'])\n",
        "def home():\n",
        "    if request.method == 'POST':\n",
        "        f = request.files['file']\n",
        "        key = request.form['key']\n",
        "        mode = request.form['mode']\n",
        "        data = f.read()\n",
        "\n",
        "        try:\n",
        "            if mode == 'encrypt':\n",
        "                result = encrypt_aes(data, key)\n",
        "                filename = \"da_ma_hoa.aes\"\n",
        "            else:\n",
        "                result = decrypt_aes(data, key)\n",
        "                filename = \"da_giai_ma.txt\"\n",
        "\n",
        "            buffer = BytesIO(result)\n",
        "            buffer.seek(0)\n",
        "            return send_file(buffer, as_attachment=True, download_name=filename)\n",
        "\n",
        "        except Exception as e:\n",
        "            return render_template_string(HTML, error=str(e))\n",
        "\n",
        "    return render_template_string(HTML, error=None)\n",
        "\n",
        "# Khởi tạo ngrok\n",
        "public_url = ngrok.connect(5000)\n",
        "print(f\"📌 Truy cập web tại: {public_url}\")\n",
        "\n",
        "app.run(port=5000, use_reloader=False)\n"
      ]
    }
  ]
}
